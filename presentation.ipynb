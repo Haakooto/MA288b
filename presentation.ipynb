{
 "cells": [
  {
   "attachments": {},
   "cell_type": "markdown",
   "metadata": {},
   "source": [
    "# Presentation of project"
   ]
  },
  {
   "attachments": {},
   "cell_type": "markdown",
   "metadata": {},
   "source": [
    "## Solving Euler equations for compressible gas in 2 dimensions\n",
    "\n",
    "**Problem set in Math228b, Numerical solutions of differential equations, at University of California, Berkeley**\n",
    "\n",
    "Simulate a flow of gas in two dimensions in square domain with periodic boundary conditions. Solved in Julia.\n",
    "\n"
   ]
  },
  {
   "attachments": {},
   "cell_type": "markdown",
   "metadata": {},
   "source": [
    "$\n",
    "\\Huge\n",
    "\\partial_t u = - \\nabla F \n",
    "$"
   ]
  },
  {
   "attachments": {},
   "cell_type": "markdown",
   "metadata": {},
   "source": [
    "- $u$: state vector with 4 components. Has one value for each point in the domain, for each component.\n",
    "- $F$: Fluxes\n",
    "- $\\nabla F$: divergence"
   ]
  },
  {
   "attachments": {},
   "cell_type": "markdown",
   "metadata": {},
   "source": [
    "$\n",
    "\\\n",
    "u=\\begin{bmatrix} \\rho \\\\ \\rho u \\\\ \\rho v \\\\ \\rho E \\end{bmatrix} \n",
    "\\hspace{2mm} \\text{and} \\hspace{3mm} \n",
    "F = \\begin{bmatrix} \\rho u & \\rho v \\\\ \\rho u^2 + p & \\rho u v \\\\ \\rho u v & \\rho v^2 + p \\\\ u(\\rho E + p) & v(\\rho E + p) \\end{bmatrix} \n",
    "\\hspace{2mm} \\text{and} \\hspace{3mm} \n",
    "p = (\\gamma - 1)\\rho(E - (u^2+v^2)/2)\n",
    "$"
   ]
  },
  {
   "attachments": {},
   "cell_type": "markdown",
   "metadata": {},
   "source": [
    "- $\\rho$: fluid density\n",
    "- $u, v$: fluid velocity components\n",
    "- $E$: total energy\n",
    "- $p$: pressure\n",
    "- $\\gamma$: adiabatic gas constant"
   ]
  },
  {
   "cell_type": "code",
   "execution_count": 4,
   "metadata": {},
   "outputs": [
    {
     "data": {
      "text/plain": [
       "Plots.PyPlotBackend()"
      ]
     },
     "metadata": {},
     "output_type": "display_data"
    }
   ],
   "source": [
    "#! Starting with imports\n",
    "using LinearAlgebra, SparseArrays\n",
    "using ProgressMeter\n",
    "using Plots\n",
    "using LaTeXStrings\n",
    "Plots.pyplot()"
   ]
  },
  {
   "cell_type": "code",
   "execution_count": 6,
   "metadata": {},
   "outputs": [
    {
     "data": {
      "text/plain": [
       "euler_rhs (generic function with 1 method)"
      ]
     },
     "metadata": {},
     "output_type": "display_data"
    }
   ],
   "source": [
    "pressure(r, ru, rv, rE, γ=1.4) = @. (γ - 1) * (rE - (ru^2 + rv^2)/2r)\n",
    "\n",
    "function euler_fluxes(r, ru, rv, rE)\n",
    "    \"\"\"\n",
    "    Return the x any y components of the fluxes of the solution components\n",
    "    Matrix F in (4) in PS2\n",
    "\n",
    "    Arguments:\n",
    "        r, ru, rv, rE: Solution components\n",
    "    Returns:\n",
    "        Frx, Fry, Frux, Fruy, Frvx, Frvy, FrEx, FrEy: flux-componets\n",
    "    \"\"\"\n",
    "    p = pressure(r, ru, rv, rE)\n",
    "    Frx  = ru\n",
    "    Fry  = rv\n",
    "    Frux = @. ru^2 / r + p\n",
    "    Fruy = @. ru * rv / r\n",
    "    Frvx = @. ru * rv / r\n",
    "    Frvy = @. rv^2 / r + p\n",
    "    FrEx = @. ru / r * (rE + p)\n",
    "    FrEy = @. rv / r * (rE + p)\n",
    "    return Frx, Fry, Frux, Fruy, Frvx, Frvy, FrEx, FrEy\n",
    "end\n",
    "\n",
    "function euler_rhs(r, ru, rv, rE, h, mats)\n",
    "    \"\"\"\n",
    "    Rhs of differential equation du_dt = -divF(u)\n",
    "    Calculates fluxes of each component,\n",
    "    calculates divergence of each component using fluxes\n",
    "    returns divergence of solution\n",
    "    \"\"\"\n",
    "    Frx, Fry, Frux, Fruy, Frvx, Frvy, FrEx, FrEy = euler_fluxes(r, ru, rv, rE)\n",
    "    fr  = compact_div(Frx , Fry , h, mats)\n",
    "    fru = compact_div(Frux, Fruy, h, mats)\n",
    "    frv = compact_div(Frvx, Frvy, h, mats)\n",
    "    frE = compact_div(FrEx, FrEy, h, mats)\n",
    "    return -fr, -fru, -frv, -frE\n",
    "end"
   ]
  },
  {
   "attachments": {},
   "cell_type": "markdown",
   "metadata": {},
   "source": [
    "Partial differential equation (PDE), with derivatives in space and time. Will solve it with finite difference methods. The spatial derivates are discretized with the fourth-order compact Padé scheme. The time dimentions is solved by RungeKutta4. "
   ]
  },
  {
   "attachments": {},
   "cell_type": "markdown",
   "metadata": {},
   "source": [
    "1-dimensional Padé scheme is \n",
    "\n",
    "$ f'_{i-1} + 4f'_i + f'_{i+1} = 3 (f_{i+1} - f_{i-1}) / h$,\n",
    "\n",
    "where $h$ is the step length of the discretization."
   ]
  },
  {
   "cell_type": "code",
   "execution_count": 1,
   "metadata": {},
   "outputs": [
    {
     "data": {
      "text/plain": [
       "make_pade_mats (generic function with 1 method)"
      ]
     },
     "metadata": {},
     "output_type": "display_data"
    }
   ],
   "source": [
    "function make_pade_mats(n)\n",
    "    \"\"\"\n",
    "    Pre-compute the matrices used to solve spatial derivates in x-direction.\n",
    "    \n",
    "    Arguments:\n",
    "        n: number of points in discretisation\n",
    "    Returns:\n",
    "        mats:\n",
    "            mats[1] = lhs of differentiation\n",
    "            mats[2] = rhs of differentiation\n",
    "    \"\"\"\n",
    "    #* Sparse matrices, tri-diagonal, but with periodic boundaries\n",
    "    div_lhs = spdiagm(-n+1=>[1], -1=>ones(n-1), 0=>4ones(n), 1=>ones(n-1), n-1=>[1])\n",
    "    div_rhs = spdiagm(-n+1=>[1], -1=>-ones(n-1), 1=>ones(n-1), n-1=>[-1])\n",
    "\n",
    "    #* pre-compute LU-factorisation, to significantly speed-up (~6x) solving by backslash\n",
    "    LU = lu(div_lhs)\n",
    "    return [LU, div_rhs]\n",
    "end"
   ]
  },
  {
   "cell_type": "code",
   "execution_count": 2,
   "metadata": {},
   "outputs": [
    {
     "data": {
      "text/plain": [
       "compact_div (generic function with 1 method)"
      ]
     },
     "metadata": {},
     "output_type": "display_data"
    }
   ],
   "source": [
    "function pade_x(f, h, mats)\n",
    "    \"\"\"\n",
    "    Calculates derivative in x-direction (lines) of nxn square matrix\n",
    "\n",
    "    Arguments:\n",
    "        f: square matrix to calculate line-derivaties of\n",
    "        h: spatial steplength\n",
    "        mats: pre-generated matricies performing\n",
    "              derivative according to equation in part b\n",
    "    Returns:\n",
    "        df: derivative of f\n",
    "    \"\"\"\n",
    "    lhs, rhs = mats\n",
    "    srhs = rhs * 3 / h  # scale with correct params\n",
    "\n",
    "    df = lhs \\ (srhs * f)\n",
    "    return df\n",
    "end\n",
    "function compact_div(Fx, Fy, h, mats)\n",
    "    \"\"\"\n",
    "    Calculates divergence of vector-field F = (Fx, Fy)\n",
    "    This is the sum of the derivative in x-direction and y-direction:\n",
    "        divF = dFx + dFy\n",
    "\n",
    "    Arguments:\n",
    "        Fx, Fy: x and y part of vector-field F to compute flux of\n",
    "        h: spatial steplength\n",
    "        mats: pre-computed matrices, see doc of pade_x\n",
    "    Returns:\n",
    "        divF: divergence of field F\n",
    "    \"\"\"\n",
    "    dFx = pade_x(Fx, h, mats)\n",
    "    dFy = pade_x(Matrix(Fy'), h, mats)\n",
    "    return dFx .+ Matrix(dFy')\n",
    "end"
   ]
  },
  {
   "attachments": {},
   "cell_type": "markdown",
   "metadata": {},
   "source": [
    "Due to the nature of the problem and the pade-scheme, the amplitude of high-frequency waves in the spatial solution will increase and diverge. Therefore, the solution will be filtered at every time step, eliminating these waves. It is a 6th order compact filter, parameterised $\\alpha$:\n",
    "\n",
    "$\n",
    "\\hat{f}_i + \\alpha (\\hat{f}_{i-1} + \\hat{f}_{i-1}) = af_i + \\frac{b}{2}(f_{i-1} + f_{i+1}) + \\frac{c}{2}(f_{i-2} + f_{i+2}) \n",
    "$\n",
    "\n",
    " where $a = 5/8 + 3\\alpha/4$ and $b = \\alpha + 1/2$ and $c = \\alpha/4 + 1/8$.\n",
    "\n",
    " $\\alpha=0.5$ means no filtering, $\\alpha < 0.5$ means low-pass filtering, while $\\alpha > 0.5$ means high-pass filtering. "
   ]
  },
  {
   "cell_type": "code",
   "execution_count": 7,
   "metadata": {},
   "outputs": [
    {
     "data": {
      "text/plain": [
       "make_matrices (generic function with 1 method)"
      ]
     },
     "metadata": {},
     "output_type": "display_data"
    }
   ],
   "source": [
    "function make_filter_mats(n, α)\n",
    "    \"\"\"\n",
    "    Pre-compute filter matricies\n",
    "\n",
    "    Arguments:\n",
    "        n: number of points in discretisation\n",
    "        α: filtering-parameter\n",
    "    Returns:\n",
    "        mats:\n",
    "            mats[1] = lhs of filtering\n",
    "            mats[2] = rhs of filtering\n",
    "    \"\"\"\n",
    "    # filter-params\n",
    "    a = (5. / 8 + 3. * α / 4) * ones(n)\n",
    "    b(n) = (α + 0.5) * ones(n) / 2\n",
    "    c(n) = (α / 4. - 1/8) * ones(n) / 2\n",
    "\n",
    "    filter_rhs = spdiagm(-n+1=>b(1), -n+2=>c(2), -2=>c(n-2), -1=>b(n-1), 0=>a, 1=>b(n-1), 2=>c(n-2), n-2=>c(2), n-1=>b(1))\n",
    "    filter_lhs = spdiagm(-n+1=>[α], -1=>α*ones(n-1), 0=>ones(n), 1=>α*ones(n-1), n-1=>[α])\n",
    "\n",
    "    # pre-compute LU-factorisation, to significantly speed-up (~6x) solving by backslash\n",
    "    LU = lu(filter_lhs)\n",
    "\n",
    "    return [LU, filter_rhs]\n",
    "end\n",
    "\n",
    "function make_matrices(n, α)\n",
    "    #* Combine the matrix-maker functions\n",
    "    return [make_pade_mats(n), make_filter_mats(n, α)]\n",
    "end"
   ]
  },
  {
   "cell_type": "code",
   "execution_count": 8,
   "metadata": {},
   "outputs": [
    {
     "data": {
      "text/plain": [
       "compact_filter (generic function with 1 method)"
      ]
     },
     "metadata": {},
     "output_type": "display_data"
    }
   ],
   "source": [
    "function filter_x(u, filters)\n",
    "    \"\"\"\n",
    "    Filters square matrix u in x-direction\n",
    "\n",
    "    Arguments:\n",
    "        u: square matrix to filter in x-dir\n",
    "        filters: pre-computed matrices, same method as for pade_x\n",
    "    Returns:\n",
    "        f: filtered u\n",
    "    \"\"\"\n",
    "    lhs, rhs = filters\n",
    "\n",
    "    f = lhs \\ (rhs * u)\n",
    "    return f\n",
    "end\n",
    "\n",
    "function compact_filter(u, filters)\n",
    "    \"\"\"\n",
    "    Filters square matrix u in x and y direction\n",
    "\n",
    "    Arguments:\n",
    "        u: square matrix to filter\n",
    "        filters: pre-computed filter matricies, see doc of filter_x\n",
    "    Returns:\n",
    "        fu: filtered u\n",
    "    \"\"\"\n",
    "    u = filter_x(u, filters)  # filter in x-direction\n",
    "    u = filter_x(Matrix(u'), filters) # filter in y-direction\n",
    "    return Matrix(u')\n",
    "end"
   ]
  },
  {
   "attachments": {},
   "cell_type": "markdown",
   "metadata": {},
   "source": [
    "Now time to solve time-part. Uses RK4 and the \"method of lines\"."
   ]
  },
  {
   "cell_type": "code",
   "execution_count": 9,
   "metadata": {},
   "outputs": [
    {
     "data": {
      "text/plain": [
       "rk4step (generic function with 1 method)"
      ]
     },
     "metadata": {},
     "output_type": "display_data"
    }
   ],
   "source": [
    "function rk4step(r, ru, rv, rE, h, k, mats)\n",
    "    \"\"\"\n",
    "    Takes a single rk4-step of solution\n",
    "    filters solution before returning\n",
    "\n",
    "    Arguments\n",
    "        r, ru, rv, rE: components of solution, each element is a nxn matrix\n",
    "        h: spatial stepsize\n",
    "        k: temporal steplength\n",
    "        mats: pre-computed matricies for derivating and filtering\n",
    "    Returns:\n",
    "        Next step of r, ru, rv, rE\n",
    "    \"\"\"\n",
    "    pade, filters = mats  #* divergence and filter matricies\n",
    "    k = 0.5 * k           #* temporal stepsize, halved for convenience\n",
    "    #* standard sub-steps of rk4\n",
    "    r1, ru1, rv1, rE1 = euler_rhs(r, ru, rv, rE, h, pade)\n",
    "    r2, ru2, rv2, rE2 = euler_rhs(r+ k*r1, ru+ k*ru1, rv+ k*rv1, rE+ k*rE1, h, pade)\n",
    "    r3, ru3, rv3, rE3 = euler_rhs(r+ k*r2, ru+ k*ru2, rv+ k*rv2, rE+ k*rE2, h, pade)\n",
    "    r4, ru4, rv4, rE4 = euler_rhs(r+2k*r3, ru+2k*ru3, rv+2k*rv3, rE+2k*rE3, h, pade)\n",
    "\n",
    "    #* update each component\n",
    "    r  += k/3 * (r1  + 2r2  + 2r3  + r4 )\n",
    "    ru += k/3 * (ru1 + 2ru2 + 2ru3 + ru4)\n",
    "    rv += k/3 * (rv1 + 2rv2 + 2rv3 + rv4)\n",
    "    rE += k/3 * (rE1 + 2rE2 + 2rE3 + rE4)\n",
    "\n",
    "    #* filter each component\n",
    "    r  = compact_filter(r , filters)\n",
    "    ru = compact_filter(ru, filters)\n",
    "    rv = compact_filter(rv, filters)\n",
    "    rE = compact_filter(rE, filters)\n",
    "\n",
    "    return r, ru, rv, rE\n",
    "end"
   ]
  },
  {
   "attachments": {},
   "cell_type": "markdown",
   "metadata": {},
   "source": [
    "Now all steps are in place, just need something to solve. Will first verify implementation on simple system, a 2d gaussian point, for which we have the analytic solution. Then I will simulate a system where one flow region has higher density and speed than the neighboring region."
   ]
  }
 ],
 "metadata": {
  "kernelspec": {
   "display_name": "Julia 1.8.0-DEV",
   "language": "julia",
   "name": "julia-1.8"
  },
  "language_info": {
   "file_extension": ".jl",
   "mimetype": "application/julia",
   "name": "julia",
   "version": "1.8.0-DEV"
  },
  "orig_nbformat": 4
 },
 "nbformat": 4,
 "nbformat_minor": 2
}
